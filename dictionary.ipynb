{
 "cells": [
  {
   "cell_type": "code",
   "execution_count": 47,
   "metadata": {},
   "outputs": [],
   "source": [
    "lbs_info ={\n",
    "    'full name': \"lal bahadur shastri college\",\n",
    "    'short name':'lbs',\n",
    "    'students':440,\n",
    "    'culture':'mood off'\n",
    "    }"
   ]
  },
  {
   "cell_type": "code",
   "execution_count": 48,
   "metadata": {},
   "outputs": [],
   "source": [
    "movies ={\n",
    "    \n",
    "    'Suryavansam':{\n",
    "        'relayed on ': 'sony max',\n",
    "        'plot': 'rich father doesnot like his ilitrate son',\n",
    "        'rating': 10\n",
    "    },\n",
    "    'gajni':{\n",
    "        \n",
    "        'plot': 'rich person forgets everything after 15 minutes',\n",
    "        'rating': 10,\n",
    "        'streamed on': 'amazon prime',\n",
    "        \n",
    "    }\n",
    "}"
   ]
  },
  {
   "cell_type": "code",
   "execution_count": 49,
   "metadata": {},
   "outputs": [],
   "source": [
    "\n",
    "movies1 ={\n",
    "    'tarjan the wonder car':{\n",
    "    'plot': 'magical car',\n",
    "    'rating': 10,\n",
    "    'streamed on': 'star plus'\n",
    "},\n",
    "    'flyngjatt':{\n",
    "        'plot': 'a man gain super powers',\n",
    "        'rating': 10,\n",
    "        'streamed on': 'jio cinema'\n",
    "    },\n",
    "    \n",
    "    'the kerala':{\n",
    "        'plot': 'related to girls',\n",
    "        'rating': 8,\n",
    "        'streamed on': 'threatre'\n",
    "    }\n",
    "    \n",
    "}"
   ]
  },
  {
   "cell_type": "code",
   "execution_count": 50,
   "metadata": {},
   "outputs": [
    {
     "data": {
      "text/plain": [
       "{'plot': 'related to girls', 'rating': 8, 'streamed on': 'threatre'}"
      ]
     },
     "execution_count": 50,
     "metadata": {},
     "output_type": "execute_result"
    }
   ],
   "source": [
    "movies1['the kerala']"
   ]
  },
  {
   "cell_type": "code",
   "execution_count": 51,
   "metadata": {},
   "outputs": [
    {
     "data": {
      "text/plain": [
       "{'plot': 'a man gain super powers', 'rating': 10, 'streamed on': 'jio cinema'}"
      ]
     },
     "execution_count": 51,
     "metadata": {},
     "output_type": "execute_result"
    }
   ],
   "source": [
    "movies1['flyngjatt']"
   ]
  },
  {
   "cell_type": "code",
   "execution_count": 52,
   "metadata": {},
   "outputs": [
    {
     "data": {
      "text/plain": [
       "{'plot': 'rich person forgets everything after 15 minutes',\n",
       " 'rating': 10,\n",
       " 'streamed on': 'amazon prime'}"
      ]
     },
     "execution_count": 52,
     "metadata": {},
     "output_type": "execute_result"
    }
   ],
   "source": [
    "movies['gajni']"
   ]
  },
  {
   "cell_type": "code",
   "execution_count": 53,
   "metadata": {},
   "outputs": [
    {
     "data": {
      "text/plain": [
       "'rich person forgets everything after 15 minutes'"
      ]
     },
     "execution_count": 53,
     "metadata": {},
     "output_type": "execute_result"
    }
   ],
   "source": [
    "movies['gajni']['plot']"
   ]
  },
  {
   "cell_type": "code",
   "execution_count": 54,
   "metadata": {},
   "outputs": [
    {
     "data": {
      "text/plain": [
       "[{'relayed on ': 'sony max',\n",
       "  'plot': 'rich father doesnot like his ilitrate son',\n",
       "  'rating': 10},\n",
       " {'plot': 'rich person forgets everything after 15 minutes',\n",
       "  'rating': 10,\n",
       "  'streamed on': 'amazon prime'}]"
      ]
     },
     "execution_count": 54,
     "metadata": {},
     "output_type": "execute_result"
    }
   ],
   "source": [
    "list(movies.values())"
   ]
  },
  {
   "cell_type": "code",
   "execution_count": 55,
   "metadata": {},
   "outputs": [
    {
     "data": {
      "text/plain": [
       "dict_items([('Suryavansam', {'relayed on ': 'sony max', 'plot': 'rich father doesnot like his ilitrate son', 'rating': 10}), ('gajni', {'plot': 'rich person forgets everything after 15 minutes', 'rating': 10, 'streamed on': 'amazon prime'})])"
      ]
     },
     "execution_count": 55,
     "metadata": {},
     "output_type": "execute_result"
    }
   ],
   "source": [
    "movies.items()"
   ]
  },
  {
   "cell_type": "code",
   "execution_count": 56,
   "metadata": {},
   "outputs": [
    {
     "name": "stdout",
     "output_type": "stream",
     "text": [
      "Suryavansam\n",
      "relayed on     sony max\n",
      "\n",
      "plot           rich father doesnot like his ilitrate son\n",
      "\n",
      "rating         10\n",
      "\n",
      "gajni\n",
      "plot           rich person forgets everything after 15 minutes\n",
      "\n",
      "rating         10\n",
      "\n",
      "streamed on    amazon prime\n",
      "\n"
     ]
    }
   ],
   "source": [
    "for title, details in movies.items():\n",
    "    print(title)\n",
    "    for entry, value in details.items():\n",
    "        print(f'{entry:15}{value}')\n",
    "        print()"
   ]
  },
  {
   "cell_type": "code",
   "execution_count": 57,
   "metadata": {},
   "outputs": [
    {
     "name": "stdout",
     "output_type": "stream",
     "text": [
      "tarjan the wonder car\n",
      "plot           magical car\n",
      "\n",
      "rating         10\n",
      "\n",
      "streamed on    star plus\n",
      "\n",
      "flyngjatt\n",
      "plot           a man gain super powers\n",
      "\n",
      "rating         10\n",
      "\n",
      "streamed on    jio cinema\n",
      "\n",
      "the kerala\n",
      "plot           related to girls\n",
      "\n",
      "rating         8\n",
      "\n",
      "streamed on    threatre\n",
      "\n"
     ]
    }
   ],
   "source": [
    "for title, details in movies1.items():\n",
    "    print(title)\n",
    "    for entry, value in details.items():\n",
    "        print(f'{entry:15}{value}')\n",
    "        print()"
   ]
  },
  {
   "cell_type": "code",
   "execution_count": 58,
   "metadata": {},
   "outputs": [
    {
     "name": "stdout",
     "output_type": "stream",
     "text": [
      "{'Suryavansam': {'relayed on ': 'sony max', 'plot': 'rich father doesnot like his ilitrate son', 'rating': 10}}\n"
     ]
    }
   ],
   "source": [
    "movies.pop('gajni')\n",
    "print(movies)"
   ]
  },
  {
   "cell_type": "code",
   "execution_count": 59,
   "metadata": {},
   "outputs": [
    {
     "data": {
      "text/plain": [
       "{'Suryavansam': {'relayed on ': 'sony max',\n",
       "  'plot': 'rich father doesnot like his ilitrate son',\n",
       "  'rating': 10}}"
      ]
     },
     "execution_count": 59,
     "metadata": {},
     "output_type": "execute_result"
    }
   ],
   "source": [
    "movies"
   ]
  },
  {
   "cell_type": "code",
   "execution_count": null,
   "metadata": {},
   "outputs": [],
   "source": [
    "\n",
    "\n"
   ]
  }
 ],
 "metadata": {
  "kernelspec": {
   "display_name": "base",
   "language": "python",
   "name": "python3"
  },
  "language_info": {
   "codemirror_mode": {
    "name": "ipython",
    "version": 3
   },
   "file_extension": ".py",
   "mimetype": "text/x-python",
   "name": "python",
   "nbconvert_exporter": "python",
   "pygments_lexer": "ipython3",
   "version": "3.10.8"
  },
  "orig_nbformat": 4
 },
 "nbformat": 4,
 "nbformat_minor": 2
}
