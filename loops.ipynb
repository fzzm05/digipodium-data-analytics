{
 "cells": [
  {
   "cell_type": "code",
   "execution_count": 22,
   "metadata": {},
   "outputs": [],
   "source": [
    "movies = ['shrek','kungfu panda','how to train your dragon','ice age',\n",
    "          'the lion king','the little marmaid','the junghle book','alaadin',\n",
    "          'the little prince']"
   ]
  },
  {
   "cell_type": "code",
   "execution_count": 23,
   "metadata": {},
   "outputs": [
    {
     "name": "stdout",
     "output_type": "stream",
     "text": [
      "total movies=9\n"
     ]
    }
   ],
   "source": [
    "print(f'total movies={len (movies)}')"
   ]
  },
  {
   "cell_type": "code",
   "execution_count": 24,
   "metadata": {},
   "outputs": [
    {
     "name": "stdout",
     "output_type": "stream",
     "text": [
      "shrek\n",
      "kungfu panda\n",
      "how to train your dragon\n",
      "ice age\n",
      "the lion king\n",
      "the little marmaid\n",
      "the junghle book\n",
      "alaadin\n",
      "the little prince\n"
     ]
    }
   ],
   "source": [
    "for movie in movies:\n",
    "    print (movie)"
   ]
  },
  {
   "cell_type": "code",
   "execution_count": 26,
   "metadata": {},
   "outputs": [
    {
     "name": "stdout",
     "output_type": "stream",
     "text": [
      "shrek 5\n",
      "kungfu panda 12\n",
      "how to train your dragon 24\n",
      "ice age 7\n",
      "the lion king 13\n",
      "the little marmaid 18\n",
      "the junghle book 16\n",
      "alaadin 7\n",
      "the little prince 17\n"
     ]
    }
   ],
   "source": [
    "for movie in movies:\n",
    "    print (movie, len(movie))"
   ]
  },
  {
   "cell_type": "code",
   "execution_count": 28,
   "metadata": {},
   "outputs": [
    {
     "name": "stdout",
     "output_type": "stream",
     "text": [
      "shrek                                    5\n",
      "kungfu panda                             12\n",
      "how to train your dragon                 24\n",
      "ice age                                  7\n",
      "the lion king                            13\n",
      "the little marmaid                       18\n",
      "the junghle book                         16\n",
      "alaadin                                  7\n",
      "the little prince                        17\n"
     ]
    }
   ],
   "source": [
    "for movie in movies:\n",
    "    print (f'{movie:40} {len(movie)}')"
   ]
  },
  {
   "cell_type": "code",
   "execution_count": 29,
   "metadata": {},
   "outputs": [
    {
     "name": "stdout",
     "output_type": "stream",
     "text": [
      "32 1024\n",
      "56 3136\n",
      "23 529\n",
      "56 3136\n",
      "12 144\n",
      "12 144\n",
      "67 4489\n",
      "56 3136\n",
      "7 49\n",
      "2 4\n"
     ]
    }
   ],
   "source": [
    "nums= [32,56,23,56,12,12,67,56,7,2]\n",
    "for i in nums:\n",
    "    print(i,i**2)"
   ]
  },
  {
   "cell_type": "code",
   "execution_count": 31,
   "metadata": {},
   "outputs": [
    {
     "name": "stdout",
     "output_type": "stream",
     "text": [
      "32 1024\n",
      "56 3136\n",
      "56 3136\n",
      "12 144\n",
      "12 144\n",
      "56 3136\n",
      "2 4\n"
     ]
    }
   ],
   "source": [
    "\n",
    "for i in nums:\n",
    "    if i%2  == 0:\n",
    "        print(i,i**2)"
   ]
  },
  {
   "cell_type": "code",
   "execution_count": 32,
   "metadata": {},
   "outputs": [
    {
     "name": "stdout",
     "output_type": "stream",
     "text": [
      "23 529\n",
      "67 4489\n",
      "7 49\n"
     ]
    }
   ],
   "source": [
    "\n",
    "for i in nums:\n",
    "    if i%2  != 0:\n",
    "        print(i,i**2)"
   ]
  },
  {
   "cell_type": "code",
   "execution_count": 33,
   "metadata": {},
   "outputs": [
    {
     "data": {
      "text/plain": [
       "323"
      ]
     },
     "execution_count": 33,
     "metadata": {},
     "output_type": "execute_result"
    }
   ],
   "source": [
    "sum(nums)"
   ]
  },
  {
   "cell_type": "code",
   "execution_count": 43,
   "metadata": {},
   "outputs": [
    {
     "name": "stdout",
     "output_type": "stream",
     "text": [
      "226\n"
     ]
    }
   ],
   "source": [
    "total_evens=0\n",
    "for i in nums:\n",
    "    if i % 2 ==0:\n",
    "        total_evens += i\n",
    "print(total_evens)\n",
    "    "
   ]
  },
  {
   "cell_type": "code",
   "execution_count": 46,
   "metadata": {},
   "outputs": [
    {
     "name": "stdout",
     "output_type": "stream",
     "text": [
      "32\n",
      "56\n"
     ]
    }
   ],
   "source": [
    "for i in nums:\n",
    "    print(i)\n",
    "    if i>50:\n",
    "        break"
   ]
  },
  {
   "cell_type": "code",
   "execution_count": 49,
   "metadata": {},
   "outputs": [
    {
     "name": "stdout",
     "output_type": "stream",
     "text": [
      "apple\n",
      "potato\n",
      "banana\n",
      "\n",
      "orange\n",
      "mango\n"
     ]
    }
   ],
   "source": [
    "x = ['apple','potato','banana','','orange','mango']\n",
    "for item in x:\n",
    "    print(item)"
   ]
  },
  {
   "cell_type": "code",
   "execution_count": 50,
   "metadata": {},
   "outputs": [
    {
     "name": "stdout",
     "output_type": "stream",
     "text": [
      "apple\n",
      "potato\n",
      "banana\n"
     ]
    }
   ],
   "source": [
    "x = ['apple','potato','banana','','orange','mango']\n",
    "for item in x:\n",
    "    if len (item)==0:\n",
    "        break\n",
    "    print(item)"
   ]
  },
  {
   "cell_type": "code",
   "execution_count": 1,
   "metadata": {},
   "outputs": [
    {
     "name": "stdout",
     "output_type": "stream",
     "text": [
      "login successful\n"
     ]
    }
   ],
   "source": [
    "errors = 0\n",
    "while True:\n",
    "    username = input('enter username:')\n",
    "    password = input('enter password:')\n",
    "    if username =='admin'and password =='secret':\n",
    "        print('login successful')\n",
    "        break\n",
    "    elif  errors == 3:\n",
    "        print('too many errors')\n",
    "        break\n",
    "    else:\n",
    "        print('invalid username/password')\n",
    "        errors += 1"
   ]
  },
  {
   "cell_type": "code",
   "execution_count": 2,
   "metadata": {},
   "outputs": [],
   "source": [
    "x = [['waterbreaker',4999],['the way of king',5999],['word of radiance,5999'],['oathbringer',5999],['rhythm of wars,5999'],    ]"
   ]
  },
  {
   "cell_type": "code",
   "execution_count": 13,
   "metadata": {},
   "outputs": [
    {
     "name": "stdout",
     "output_type": "stream",
     "text": [
      "waterbreaker\n",
      "4999\n",
      "---\n",
      "the way of king\n",
      "5999\n",
      "---\n",
      "word of radiance,5999\n",
      "---\n",
      "oathbringer\n",
      "5999\n",
      "---\n",
      "rhythm of wars,5999\n",
      "---\n"
     ]
    }
   ],
   "source": [
    "for item in x:\n",
    "    for data in item:\n",
    "        print(data)\n",
    "    print('---')"
   ]
  },
  {
   "cell_type": "code",
   "execution_count": null,
   "metadata": {},
   "outputs": [],
   "source": []
  },
  {
   "cell_type": "code",
   "execution_count": null,
   "metadata": {},
   "outputs": [],
   "source": []
  }
 ],
 "metadata": {
  "kernelspec": {
   "display_name": "base",
   "language": "python",
   "name": "python3"
  },
  "language_info": {
   "codemirror_mode": {
    "name": "ipython",
    "version": 3
   },
   "file_extension": ".py",
   "mimetype": "text/x-python",
   "name": "python",
   "nbconvert_exporter": "python",
   "pygments_lexer": "ipython3",
   "version": "3.10.8"
  },
  "orig_nbformat": 4
 },
 "nbformat": 4,
 "nbformat_minor": 2
}
