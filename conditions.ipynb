{
 "cells": [
  {
   "cell_type": "markdown",
   "metadata": {},
   "source": [
    "conditions \n",
    "- if\n",
    "- if else \n",
    "- if elif\n",
    "- match case "
   ]
  },
  {
   "cell_type": "code",
   "execution_count": 33,
   "metadata": {},
   "outputs": [],
   "source": [
    "x= 10\n",
    "y= 3\n",
    " "
   ]
  },
  {
   "cell_type": "code",
   "execution_count": 34,
   "metadata": {},
   "outputs": [
    {
     "name": "stdout",
     "output_type": "stream",
     "text": [
      "x is greater than y \n",
      "that is true\n",
      "this is always printed\n"
     ]
    }
   ],
   "source": [
    "if x>y:\n",
    "    print (\"x is greater than y \")\n",
    "    print (\"that is true\")\n",
    "    print (\"this is always printed\")\n",
    "    "
   ]
  },
  {
   "cell_type": "code",
   "execution_count": 35,
   "metadata": {},
   "outputs": [],
   "source": [
    "if x==y:\n",
    "    print (\"wow\")"
   ]
  },
  {
   "cell_type": "code",
   "execution_count": 36,
   "metadata": {},
   "outputs": [
    {
     "name": "stdout",
     "output_type": "stream",
     "text": [
      "x is geater then y andd x is greater thhan 8\n"
     ]
    }
   ],
   "source": [
    "if x>y and x>8:\n",
    "    print ('x is geater then y andd x is greater thhan 8')"
   ]
  },
  {
   "cell_type": "markdown",
   "metadata": {},
   "source": [
    "True values \n",
    "- true \n",
    "- non zero nummbers\n",
    "- non empty "
   ]
  },
  {
   "cell_type": "markdown",
   "metadata": {},
   "source": [
    "False values \n",
    "- false\n",
    "- 0\n",
    "-  0.0\n",
    "- none\n",
    "- empty strings"
   ]
  },
  {
   "cell_type": "markdown",
   "metadata": {},
   "source": []
  },
  {
   "cell_type": "code",
   "execution_count": 37,
   "metadata": {},
   "outputs": [
    {
     "name": "stdout",
     "output_type": "stream",
     "text": [
      "you did not enter a name\n"
     ]
    }
   ],
   "source": [
    "name = input ('enter a name')\n",
    "if name:\n",
    "    print(f'you enter {name}')\n",
    "else: \n",
    "    print ('you did not enter a name')"
   ]
  },
  {
   "cell_type": "code",
   "execution_count": 39,
   "metadata": {},
   "outputs": [
    {
     "ename": "ValueError",
     "evalue": "invalid literal for int() with base 10: 'input a number'",
     "output_type": "error",
     "traceback": [
      "\u001b[1;31m---------------------------------------------------------------------------\u001b[0m",
      "\u001b[1;31mValueError\u001b[0m                                Traceback (most recent call last)",
      "Cell \u001b[1;32mIn[39], line 1\u001b[0m\n\u001b[1;32m----> 1\u001b[0m x \u001b[39m=\u001b[39m \u001b[39mint\u001b[39;49m (\u001b[39m\"\u001b[39;49m\u001b[39minput a number\u001b[39;49m\u001b[39m\"\u001b[39;49m)\n\u001b[0;32m      2\u001b[0m \u001b[39mif\u001b[39;00m x\u001b[39m%\u001b[39m \u001b[39m2\u001b[39m \u001b[39m==\u001b[39m\u001b[39m0\u001b[39m:\n\u001b[0;32m      3\u001b[0m     \u001b[39mprint\u001b[39m(\u001b[39m'\u001b[39m\u001b[39meven\u001b[39m\u001b[39m'\u001b[39m)\n",
      "\u001b[1;31mValueError\u001b[0m: invalid literal for int() with base 10: 'input a number'"
     ]
    }
   ],
   "source": [
    "x = int (\"input a number\")\n",
    "if x% 2 ==0:\n",
    "    print('even')\n",
    "else:\n",
    "    print ('odd')"
   ]
  },
  {
   "cell_type": "markdown",
   "metadata": {},
   "source": []
  },
  {
   "cell_type": "markdown",
   "metadata": {},
   "source": []
  },
  {
   "cell_type": "markdown",
   "metadata": {},
   "source": []
  },
  {
   "cell_type": "code",
   "execution_count": 40,
   "metadata": {},
   "outputs": [
    {
     "ename": "SyntaxError",
     "evalue": "expected ':' (1486497495.py, line 3)",
     "output_type": "error",
     "traceback": [
      "\u001b[1;36m  Cell \u001b[1;32mIn[40], line 3\u001b[1;36m\u001b[0m\n\u001b[1;33m    if username == ('admin')\u001b[0m\n\u001b[1;37m                            ^\u001b[0m\n\u001b[1;31mSyntaxError\u001b[0m\u001b[1;31m:\u001b[0m expected ':'\n"
     ]
    }
   ],
   "source": [
    "username = input ('enter username')\n",
    "password = input ('enter paassword')\n",
    "if username == ('admin')\n",
    "  if password == '123 admin'\n",
    "   print ('welcome admin') \n",
    "  else :\n",
    "      print ('welcome admin'|)\n",
    "else :\n",
    "    print ('invalid username') "
   ]
  },
  {
   "cell_type": "code",
   "execution_count": 41,
   "metadata": {},
   "outputs": [
    {
     "ename": "SyntaxError",
     "evalue": "expected ':' (3721268453.py, line 6)",
     "output_type": "error",
     "traceback": [
      "\u001b[1;36m  Cell \u001b[1;32mIn[41], line 6\u001b[1;36m\u001b[0m\n\u001b[1;33m    elif day ==('wednnesday')\u001b[0m\n\u001b[1;37m                             ^\u001b[0m\n\u001b[1;31mSyntaxError\u001b[0m\u001b[1;31m:\u001b[0m expected ':'\n"
     ]
    }
   ],
   "source": [
    "day = input ('enter day')\n",
    "if day == 'monday':\n",
    "    print('monday')\n",
    "elif day =='tuesday':\n",
    "    print ('tuesday')\n",
    "elif day ==('wednnesday')\n",
    "  print('wednesday')\n",
    "else :\n",
    "    print ('holiday day ') "
   ]
  },
  {
   "cell_type": "code",
   "execution_count": null,
   "metadata": {},
   "outputs": [],
   "source": [
    "day = input ('enter a day')\n",
    "match day :\n",
    "    print ('time  to work')\n",
    "case 'tuesday' | 'wednesday'\n",
    "    print ('time to work')\n",
    "case 'thursday':\n",
    "    print ('almost there')\n",
    "case 'friday':\n",
    "    print ('weekend not really ')\n",
    "case '_':\n",
    "    print('holiday.0.')\n"
   ]
  }
 ],
 "metadata": {
  "kernelspec": {
   "display_name": "base",
   "language": "python",
   "name": "python3"
  },
  "language_info": {
   "codemirror_mode": {
    "name": "ipython",
    "version": 3
   },
   "file_extension": ".py",
   "mimetype": "text/x-python",
   "name": "python",
   "nbconvert_exporter": "python",
   "pygments_lexer": "ipython3",
   "version": "3.10.8"
  },
  "orig_nbformat": 4
 },
 "nbformat": 4,
 "nbformat_minor": 2
}
