{
 "cells": [
  {
   "cell_type": "code",
   "execution_count": 2,
   "metadata": {},
   "outputs": [
    {
     "name": "stdout",
     "output_type": "stream",
     "text": [
      "[1, 2, 3, 'uday', 'deepika']\n",
      "[1, 'python', 2, 3, 'uday', 'deepika']\n"
     ]
    }
   ],
   "source": [
    "arr=[1,2,3,'uday']\n",
    "# arr_nname.append(value)\n",
    "arr.append('deepika')\n",
    "print(arr)\n",
    "\n",
    "# arr_name.insert(idx,value)\n",
    "\n",
    "arr.insert(1,'python')\n",
    "print(arr)"
   ]
  },
  {
   "cell_type": "code",
   "execution_count": 6,
   "metadata": {},
   "outputs": [
    {
     "name": "stdout",
     "output_type": "stream",
     "text": [
      "[1, 2, 3, 'uday', 'deepika']\n",
      "[1, 'python', 2, 3, 'uday', 'deepika']\n",
      "deepika\n",
      "[1, 'python', 2, 3, 'uday']\n",
      "None\n",
      "[1, 'python', 2, 3]\n"
     ]
    }
   ],
   "source": [
    "\n",
    "arr=[1,2,3,'uday']\n",
    "# arr_nname.append(value)\n",
    "arr.append('deepika')\n",
    "print(arr)\n",
    "\n",
    "# arr_name.insert(idx,value)\n",
    "\n",
    "arr.insert(1,'python')\n",
    "print(arr)\n",
    "# delete\n",
    "x=arr.pop()\n",
    "print(x)\n",
    "\n",
    "print(arr)\n",
    "print(arr.remove('uday'))\n",
    "print(arr)"
   ]
  },
  {
   "cell_type": "code",
   "execution_count": 8,
   "metadata": {},
   "outputs": [
    {
     "name": "stdout",
     "output_type": "stream",
     "text": [
      "124\n",
      "-1\n"
     ]
    }
   ],
   "source": [
    "arr1=[1,2,3,4,5,6,100,-1,0,124]\n",
    "print(max(arr1))\n",
    "\n",
    "print(min(arr1))\n",
    "        "
   ]
  },
  {
   "cell_type": "code",
   "execution_count": 9,
   "metadata": {},
   "outputs": [
    {
     "name": "stdout",
     "output_type": "stream",
     "text": [
      "[124, 0, -1, 100, 6, 5, 4, 3, 2, 1]\n",
      "[124, 6, 2]\n"
     ]
    }
   ],
   "source": [
    "\n",
    "#reverse\n",
    "arr1.reverse()\n",
    "print(arr1)\n",
    "print(arr1[::4])"
   ]
  },
  {
   "cell_type": "code",
   "execution_count": 10,
   "metadata": {},
   "outputs": [
    {
     "name": "stdout",
     "output_type": "stream",
     "text": [
      "[1, 2, 3, 4, 5, 6, 100, -1, 0, 124]\n",
      "[124, 0, -1, 100, 6, 5, 4, 3, 2, 1]\n"
     ]
    }
   ],
   "source": [
    "\n",
    "#reverse\n",
    "arr1.reverse()\n",
    "print(arr1)\n",
    "print(arr1[::-1])"
   ]
  },
  {
   "cell_type": "code",
   "execution_count": 14,
   "metadata": {},
   "outputs": [
    {
     "name": "stdout",
     "output_type": "stream",
     "text": [
      "4\n"
     ]
    }
   ],
   "source": [
    "# count\n",
    "arr1=[1,2,3,3,2,1,1,1,3,3,3,3]\n",
    "\n",
    "print(arr1.count(1))"
   ]
  },
  {
   "cell_type": "code",
   "execution_count": 16,
   "metadata": {},
   "outputs": [
    {
     "name": "stdout",
     "output_type": "stream",
     "text": [
      "[1, 1, 1, 1, 2, 2, 3, 3, 3, 3, 3, 3]\n"
     ]
    }
   ],
   "source": [
    "arr1.sort()\n",
    "print(arr1)"
   ]
  },
  {
   "cell_type": "code",
   "execution_count": 21,
   "metadata": {},
   "outputs": [
    {
     "name": "stdout",
     "output_type": "stream",
     "text": [
      "[-12234, -1, 0, 1, 23, 123, 1000]\n"
     ]
    }
   ],
   "source": [
    "\n",
    "arr1=[0,1,-1,123,-12234,1000,23]\n",
    "arr1.sort()\n",
    "\n",
    "print(arr1)"
   ]
  },
  {
   "cell_type": "code",
   "execution_count": 25,
   "metadata": {},
   "outputs": [
    {
     "name": "stdout",
     "output_type": "stream",
     "text": [
      "[1000, 123, 23, 1, 0, -1, -12234]\n"
     ]
    }
   ],
   "source": [
    "\n",
    "o"
   ]
  },
  {
   "cell_type": "code",
   "execution_count": 29,
   "metadata": {},
   "outputs": [
    {
     "name": "stdout",
     "output_type": "stream",
     "text": [
      "[1, 2, 3, [4, 5, 6]]\n"
     ]
    }
   ],
   "source": [
    "\n",
    "arr1=[1,2,3]\n",
    "arr1.append([4,5,6])\n",
    "print(arr1)"
   ]
  },
  {
   "cell_type": "code",
   "execution_count": 32,
   "metadata": {},
   "outputs": [
    {
     "name": "stdout",
     "output_type": "stream",
     "text": [
      "[1, 2, 3, 4, 5, -1, -2, 3, 8, 6]\n"
     ]
    }
   ],
   "source": [
    "\n",
    "arr1=[1,2,3]\n",
    "arr1.extend([4,5,-1 ,-2,3,8,6])\n",
    "print(arr1)"
   ]
  },
  {
   "cell_type": "code",
   "execution_count": 33,
   "metadata": {},
   "outputs": [
    {
     "name": "stdout",
     "output_type": "stream",
     "text": [
      "[1, 2, 3, 4, 5, 6]\n"
     ]
    }
   ],
   "source": [
    "\n",
    "arr1=[1,2,3]\n",
    "arr1.extend([4,5,6])\n",
    "print(arr1)\n"
   ]
  },
  {
   "cell_type": "code",
   "execution_count": 34,
   "metadata": {},
   "outputs": [
    {
     "name": "stdout",
     "output_type": "stream",
     "text": [
      "c\n",
      "a\n"
     ]
    }
   ],
   "source": [
    "arr = ['a','b','c']\n",
    "print(max(arr))\n",
    "\n",
    "print(min(arr))\n"
   ]
  },
  {
   "cell_type": "code",
   "execution_count": 35,
   "metadata": {},
   "outputs": [
    {
     "name": "stdout",
     "output_type": "stream",
     "text": [
      "komal\n",
      "anu\n"
     ]
    }
   ],
   "source": [
    "arr = ['komal','anu','arun']\n",
    "print(max(arr))\n",
    "\n",
    "print(min(arr))"
   ]
  },
  {
   "cell_type": "code",
   "execution_count": 36,
   "metadata": {},
   "outputs": [
    {
     "name": "stdout",
     "output_type": "stream",
     "text": [
      "komal\n",
      "Komal\n"
     ]
    }
   ],
   "source": [
    "arr = ['komal','Komal']\n",
    "print(max(arr,))\n",
    "\n",
    "print(min(arr))"
   ]
  },
  {
   "cell_type": "code",
   "execution_count": null,
   "metadata": {},
   "outputs": [],
   "source": []
  },
  {
   "cell_type": "code",
   "execution_count": null,
   "metadata": {},
   "outputs": [],
   "source": [
    "\n"
   ]
  }
 ],
 "metadata": {
  "kernelspec": {
   "display_name": "base",
   "language": "python",
   "name": "python3"
  },
  "language_info": {
   "codemirror_mode": {
    "name": "ipython",
    "version": 3
   },
   "file_extension": ".py",
   "mimetype": "text/x-python",
   "name": "python",
   "nbconvert_exporter": "python",
   "pygments_lexer": "ipython3",
   "version": "3.10.8"
  },
  "orig_nbformat": 4
 },
 "nbformat": 4,
 "nbformat_minor": 2
}
