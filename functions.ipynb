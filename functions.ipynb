{
 "cells": [
  {
   "cell_type": "code",
   "execution_count": null,
   "metadata": {},
   "outputs": [],
   "source": []
  },
  {
   "cell_type": "code",
   "execution_count": 3,
   "metadata": {},
   "outputs": [],
   "source": [
    "def pythagoras(base,perpendicular):\n",
    "    return(base**2+ perpendicular**2)**0.5"
   ]
  },
  {
   "cell_type": "code",
   "execution_count": 3,
   "metadata": {},
   "outputs": [
    {
     "data": {
      "text/plain": [
       "5.0"
      ]
     },
     "execution_count": 3,
     "metadata": {},
     "output_type": "execute_result"
    }
   ],
   "source": [
    "pythagoras(3,4)"
   ]
  },
  {
   "cell_type": "code",
   "execution_count": 7,
   "metadata": {},
   "outputs": [
    {
     "data": {
      "text/plain": [
       "7.810249675906654"
      ]
     },
     "execution_count": 7,
     "metadata": {},
     "output_type": "execute_result"
    }
   ],
   "source": [
    "pythagoras(perpendicular=5,base=6)"
   ]
  },
  {
   "attachments": {},
   "cell_type": "markdown",
   "metadata": {},
   "source": [
    "lambda expressions - for making anonymous functions (1 line functions)"
   ]
  },
  {
   "cell_type": "code",
   "execution_count": 9,
   "metadata": {},
   "outputs": [
    {
     "name": "stdout",
     "output_type": "stream",
     "text": [
      "9\n",
      "16\n",
      "121\n",
      "256\n"
     ]
    }
   ],
   "source": [
    "f = lambda x: x**2 +2*x+1\n",
    "print(f(2))\n",
    "print(f(3))\n",
    "print(f(10))\n",
    " \n",
    "print(f(15))\n",
    " "
   ]
  },
  {
   "cell_type": "code",
   "execution_count": 13,
   "metadata": {},
   "outputs": [
    {
     "name": "stdout",
     "output_type": "stream",
     "text": [
      "25\n",
      "49\n"
     ]
    }
   ],
   "source": [
    "g = lambda x,y:x**2 + 2*x*y+y**2\n",
    "print(g(2,3))\n",
    "print(g(3,4))\n"
   ]
  },
  {
   "cell_type": "markdown",
   "metadata": {},
   "source": []
  },
  {
   "cell_type": "code",
   "execution_count": 14,
   "metadata": {},
   "outputs": [
    {
     "data": {
      "text/plain": [
       "10080.0"
      ]
     },
     "execution_count": 14,
     "metadata": {},
     "output_type": "execute_result"
    }
   ],
   "source": [
    "# what is the ammount after 16 % discount of 12000\n",
    "\n",
    "12000 *(1-.16)\n",
    "\n"
   ]
  },
  {
   "cell_type": "code",
   "execution_count": 23,
   "metadata": {},
   "outputs": [
    {
     "name": "stdout",
     "output_type": "stream",
     "text": [
      "8400.0\n",
      "25200.0\n",
      "10919.16\n",
      "42000.0\n",
      "36959.159999999996\n",
      "8820.0\n"
     ]
    }
   ],
   "source": [
    "prices = [ 10000, 30000, 12999, 50000, 43999, 10500]\n",
    "\n",
    "for price in prices:\n",
    "    print(price * (1-.16))"
   ]
  },
  {
   "cell_type": "code",
   "execution_count": 30,
   "metadata": {},
   "outputs": [
    {
     "name": "stdout",
     "output_type": "stream",
     "text": [
      "[10000, 30000, 12999, 50000, 43999, 10500]\n",
      "[8400.0, 25200.0, 10919.16, 42000.0, 36959.159999999996, 8820.0]\n"
     ]
    }
   ],
   "source": [
    "prices = [ 10000, 30000, 12999, 50000, 43999, 10500]\n",
    "dis_prices = [] \n",
    "for price in prices:\n",
    "    ans = price * (1-.16)\n",
    "    dis_prices.append(ans)\n",
    "     \n",
    "print(prices)\n",
    "print(dis_prices)"
   ]
  },
  {
   "cell_type": "code",
   "execution_count": 55,
   "metadata": {},
   "outputs": [
    {
     "name": "stdout",
     "output_type": "stream",
     "text": [
      "[8400.0, 25200.0, 10919.16, 42000.0, 36959.159999999996, 8820.0]\n"
     ]
    }
   ],
   "source": [
    "\n",
    "dis_price = list(map(lambda p:p*(1-.16),prices))\n",
    "print(dis_price)\n",
    "\n"
   ]
  },
  {
   "cell_type": "code",
   "execution_count": 56,
   "metadata": {},
   "outputs": [
    {
     "name": "stdout",
     "output_type": "stream",
     "text": [
      "[1, 4, 16, 36, 9, 49, 25, 64, 441]\n"
     ]
    }
   ],
   "source": [
    "print(list(map(lambda x:x**2,x)))"
   ]
  },
  {
   "cell_type": "code",
   "execution_count": 2,
   "metadata": {},
   "outputs": [
    {
     "name": "stdout",
     "output_type": "stream",
     "text": [
      "6.0\n"
     ]
    }
   ],
   "source": [
    "area=lambda b,h: 0.5*b*h\n",
    "print(area(3,4))"
   ]
  },
  {
   "cell_type": "code",
   "execution_count": 26,
   "metadata": {},
   "outputs": [],
   "source": [
    "def total(data):\n",
    "    result = 0\n",
    "    for i in data:\n",
    "     result += i\n",
    "    return result"
   ]
  },
  {
   "cell_type": "code",
   "execution_count": 27,
   "metadata": {},
   "outputs": [
    {
     "data": {
      "text/plain": [
       "63"
      ]
     },
     "execution_count": 27,
     "metadata": {},
     "output_type": "execute_result"
    }
   ],
   "source": [
    "total([2,3,3,1,2,3,4,5,6,7,8,9,10])"
   ]
  },
  {
   "cell_type": "code",
   "execution_count": null,
   "metadata": {},
   "outputs": [],
   "source": []
  },
  {
   "cell_type": "code",
   "execution_count": null,
   "metadata": {},
   "outputs": [],
   "source": [
    "\n"
   ]
  }
 ],
 "metadata": {
  "kernelspec": {
   "display_name": "base",
   "language": "python",
   "name": "python3"
  },
  "language_info": {
   "codemirror_mode": {
    "name": "ipython",
    "version": 3
   },
   "file_extension": ".py",
   "mimetype": "text/x-python",
   "name": "python",
   "nbconvert_exporter": "python",
   "pygments_lexer": "ipython3",
   "version": "3.10.8"
  },
  "orig_nbformat": 4
 },
 "nbformat": 4,
 "nbformat_minor": 2
}
