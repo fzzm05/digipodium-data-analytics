{
 "cells": [
  {
   "cell_type": "code",
   "execution_count": 3,
   "metadata": {},
   "outputs": [
    {
     "name": "stdout",
     "output_type": "stream",
     "text": [
      "12\n"
     ]
    }
   ],
   "source": [
    "# initialise the string\n",
    "# s=''\n",
    "# b=1\n",
    "# print(str(b))\n",
    "s='deepika soni'\n",
    "\n",
    "print(len(s))\n",
    "\n"
   ]
  },
  {
   "cell_type": "code",
   "execution_count": 10,
   "metadata": {},
   "outputs": [
    {
     "name": "stdout",
     "output_type": "stream",
     "text": [
      "e\n"
     ]
    }
   ],
   "source": [
    "# indexing\n",
    "print(s[-10])"
   ]
  },
  {
   "cell_type": "code",
   "execution_count": 13,
   "metadata": {},
   "outputs": [
    {
     "name": "stdout",
     "output_type": "stream",
     "text": [
      "0 d\n",
      "1 e\n",
      "2 e\n",
      "3 p\n",
      "4 i\n",
      "5 k\n",
      "6 a\n",
      "7  \n",
      "8 s\n",
      "9 o\n",
      "10 n\n",
      "11 i\n"
     ]
    }
   ],
   "source": [
    "for i in range(len(s)):\n",
    " print(i,s[i])"
   ]
  },
  {
   "cell_type": "code",
   "execution_count": 17,
   "metadata": {},
   "outputs": [
    {
     "name": "stdout",
     "output_type": "stream",
     "text": [
      "deepika soni\n",
      "ika soni\n",
      "deepika\n"
     ]
    }
   ],
   "source": [
    "# slicing\n",
    "\n",
    "print(s[:])\n",
    "\n",
    "print(s[4:])\n",
    "print(s[:7])"
   ]
  },
  {
   "cell_type": "code",
   "execution_count": null,
   "metadata": {},
   "outputs": [],
   "source": [
    "for i in range(len(s)):\n",
    " print(i,s[i])"
   ]
  }
 ],
 "metadata": {
  "kernelspec": {
   "display_name": "base",
   "language": "python",
   "name": "python3"
  },
  "language_info": {
   "codemirror_mode": {
    "name": "ipython",
    "version": 3
   },
   "file_extension": ".py",
   "mimetype": "text/x-python",
   "name": "python",
   "nbconvert_exporter": "python",
   "pygments_lexer": "ipython3",
   "version": "3.10.8"
  },
  "orig_nbformat": 4
 },
 "nbformat": 4,
 "nbformat_minor": 2
}
