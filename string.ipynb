{
 "cells": [
  {
   "cell_type": "code",
   "execution_count": 1,
   "metadata": {},
   "outputs": [
    {
     "name": "stdout",
     "output_type": "stream",
     "text": [
      "12\n"
     ]
    }
   ],
   "source": [
    "# initialise the string\n",
    "# s=''\n",
    "# b=1\n",
    "# print(str(b))\n",
    "s='deepika soni'\n",
    "\n",
    "print(len(s))\n",
    "\n"
   ]
  },
  {
   "cell_type": "code",
   "execution_count": 2,
   "metadata": {},
   "outputs": [
    {
     "name": "stdout",
     "output_type": "stream",
     "text": [
      "e\n"
     ]
    }
   ],
   "source": [
    "# indexing\n",
    "print(s[-10])"
   ]
  },
  {
   "cell_type": "code",
   "execution_count": 3,
   "metadata": {},
   "outputs": [
    {
     "name": "stdout",
     "output_type": "stream",
     "text": [
      "0 d\n",
      "1 e\n",
      "2 e\n",
      "3 p\n",
      "4 i\n",
      "5 k\n",
      "6 a\n",
      "7  \n",
      "8 s\n",
      "9 o\n",
      "10 n\n",
      "11 i\n"
     ]
    }
   ],
   "source": [
    "for i in range(len(s)):\n",
    " print(i,s[i])"
   ]
  },
  {
   "cell_type": "code",
   "execution_count": 4,
   "metadata": {},
   "outputs": [
    {
     "name": "stdout",
     "output_type": "stream",
     "text": [
      "deepika soni\n",
      "ika soni\n",
      "deepika\n"
     ]
    }
   ],
   "source": [
    "# slicing\n",
    "\n",
    "print(s[:])\n",
    "\n",
    "print(s[4:])\n",
    "print(s[:7])\n"
   ]
  },
  {
   "cell_type": "code",
   "execution_count": 12,
   "metadata": {},
   "outputs": [
    {
     "name": "stdout",
     "output_type": "stream",
     "text": [
      "life before death\n"
     ]
    }
   ],
   "source": [
    "\n",
    "msg ='life before death, strength before weakness, journey before destination'\n",
    "\n",
    "print(msg[:17])"
   ]
  },
  {
   "cell_type": "code",
   "execution_count": 13,
   "metadata": {},
   "outputs": [
    {
     "name": "stdout",
     "output_type": "stream",
     "text": [
      "71\n"
     ]
    }
   ],
   "source": [
    "print(len(msg))"
   ]
  },
  {
   "cell_type": "code",
   "execution_count": 14,
   "metadata": {},
   "outputs": [
    {
     "data": {
      "text/plain": [
       "['life',\n",
       " 'before',\n",
       " 'death,',\n",
       " 'strength',\n",
       " 'before',\n",
       " 'weakness,',\n",
       " 'journey',\n",
       " 'before',\n",
       " 'destination']"
      ]
     },
     "execution_count": 14,
     "metadata": {},
     "output_type": "execute_result"
    }
   ],
   "source": [
    "\n",
    "msg.split()"
   ]
  },
  {
   "cell_type": "code",
   "execution_count": 16,
   "metadata": {},
   "outputs": [
    {
     "data": {
      "text/plain": [
       "['life before death',\n",
       " ' strength before weakness',\n",
       " ' journey before destination']"
      ]
     },
     "execution_count": 16,
     "metadata": {},
     "output_type": "execute_result"
    }
   ],
   "source": [
    "msg.split(',')"
   ]
  },
  {
   "cell_type": "code",
   "execution_count": 23,
   "metadata": {},
   "outputs": [
    {
     "name": "stdout",
     "output_type": "stream",
     "text": [
      "rain rain go away,\n",
      "comes again another day, \n",
      "little johny wants to play,\n",
      "rain rain go away\n"
     ]
    }
   ],
   "source": [
    "poem = '''rain rain go away,\n",
    "comes again another day, \n",
    "little johny wants to play,\n",
    "rain rain go away'''\n",
    "\n",
    "print(poem)"
   ]
  },
  {
   "cell_type": "code",
   "execution_count": 26,
   "metadata": {},
   "outputs": [
    {
     "name": "stdout",
     "output_type": "stream",
     "text": [
      "90\n"
     ]
    }
   ],
   "source": [
    "print(len(poem))"
   ]
  },
  {
   "cell_type": "code",
   "execution_count": 29,
   "metadata": {},
   "outputs": [
    {
     "name": "stdout",
     "output_type": "stream",
     "text": [
      "rain rain go away,\n",
      "comes again another day, \n",
      "little johny wants to play,\n",
      "rain rain go away\n",
      "-x--x--x--x--x--x--x--x--x--x-\n",
      "90 num of character\n",
      "90 num of words\n",
      "4 num of lines\n"
     ]
    }
   ],
   "source": [
    "poem = '''rain rain go away,\n",
    "comes again another day, \n",
    "little johny wants to play,\n",
    "rain rain go away'''\n",
    "\n",
    "print(poem)\n",
    "print('-x-'*10)\n",
    "print(len(poem),'num of character')\n",
    "print(len(poem),'num of words')\n",
    "print(len(poem.splitlines()),'num of lines')\n"
   ]
  },
  {
   "cell_type": "code",
   "execution_count": 31,
   "metadata": {},
   "outputs": [
    {
     "data": {
      "text/plain": [
       "1"
      ]
     },
     "execution_count": 31,
     "metadata": {},
     "output_type": "execute_result"
    }
   ],
   "source": [
    "poem.count('johny') "
   ]
  },
  {
   "cell_type": "code",
   "execution_count": 34,
   "metadata": {},
   "outputs": [
    {
     "name": "stdout",
     "output_type": "stream",
     "text": [
      "LIFE BEFORE DEATH, STRENGTH BEFORE WEAKNESS, JOURNEY BEFORE DESTINATION\n",
      "life before death, strength before weakness, journey before destination\n",
      "Life Before Death, Strength Before Weakness, Journey Before Destination\n",
      "Life before death, strength before weakness, journey before destination\n",
      "LIFE BEFORE DEATH, STRENGTH BEFORE WEAKNESS, JOURNEY BEFORE DESTINATION\n"
     ]
    }
   ],
   "source": [
    "print(msg.upper())\n",
    "print(msg.lower())\n",
    "print(msg.title())\n",
    "print(msg.capitalize())\n",
    "print(msg.swapcase())\n"
   ]
  },
  {
   "cell_type": "code",
   "execution_count": 35,
   "metadata": {},
   "outputs": [
    {
     "name": "stdout",
     "output_type": "stream",
     "text": [
      "apple False\n",
      "apple True\n",
      "apple True\n"
     ]
    }
   ],
   "source": [
    "\n",
    "a ='apple'\n",
    "\n",
    "b ='290'\n",
    "c ='apple100'\n",
    "\n",
    "print(a,a.isnumeric())\n",
    "\n",
    "print(a,a.isalpha())\n",
    "\n",
    "print(a,a.isalnum())"
   ]
  },
  {
   "cell_type": "code",
   "execution_count": 37,
   "metadata": {},
   "outputs": [
    {
     "name": "stdout",
     "output_type": "stream",
     "text": [
      "gain gain go away,\n",
      "comes again another day, \n",
      "little johny wants to play,\n",
      "gain gain go away\n"
     ]
    }
   ],
   "source": [
    "print(poem.replace('rain','gain'))"
   ]
  },
  {
   "cell_type": "code",
   "execution_count": 38,
   "metadata": {},
   "outputs": [
    {
     "name": "stdout",
     "output_type": "stream",
     "text": [
      "sun sun go away,\n",
      "comes again another day, \n",
      "little johny wants to play,\n",
      "sun sun go away\n"
     ]
    }
   ],
   "source": [
    "print(poem.replace('rain','sun'))"
   ]
  },
  {
   "cell_type": "code",
   "execution_count": 41,
   "metadata": {},
   "outputs": [
    {
     "name": "stdout",
     "output_type": "stream",
     "text": [
      "sun rain go away,\n",
      "comes again another day, \n",
      "little johny wants to play,\n",
      "rain rain go away\n"
     ]
    }
   ],
   "source": [
    "print(poem.replace('rain','sun',1))"
   ]
  },
  {
   "cell_type": "code",
   "execution_count": null,
   "metadata": {},
   "outputs": [],
   "source": [
    "\n",
    "\n"
   ]
  }
 ],
 "metadata": {
  "kernelspec": {
   "display_name": "base",
   "language": "python",
   "name": "python3"
  },
  "language_info": {
   "codemirror_mode": {
    "name": "ipython",
    "version": 3
   },
   "file_extension": ".py",
   "mimetype": "text/x-python",
   "name": "python",
   "nbconvert_exporter": "python",
   "pygments_lexer": "ipython3",
   "version": "3.10.8"
  },
  "orig_nbformat": 4
 },
 "nbformat": 4,
 "nbformat_minor": 2
}
